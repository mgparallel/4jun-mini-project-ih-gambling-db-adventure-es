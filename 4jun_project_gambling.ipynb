{
 "cells": [
  {
   "cell_type": "markdown",
   "id": "cdd999c6-2152-4cef-b69a-2c70fba1dd03",
   "metadata": {},
   "source": [
    "#### Pregunta 01:\n",
    "Usando la tabla o pestaña de clientes, por favor escribe una consulta SQL que muestre Título, Nombre y Apellido y Fecha de Nacimiento para cada uno de los clientes. No necesitarás hacer nada en Excel para esta."
   ]
  },
  {
   "cell_type": "code",
   "execution_count": null,
   "id": "60ed87a5-5b0d-4620-b85c-00bd2d496f8b",
   "metadata": {},
   "outputs": [],
   "source": [
    "USE SQL_TEST_DATA\n",
    "SELECT\n",
    "    Title, \n",
    "    Firstname, \n",
    "    Lastname,\n",
    "    DateofBirth\n",
    "FROM Customer\n",
    ";"
   ]
  },
  {
   "cell_type": "markdown",
   "id": "cc8e71eb-7068-415b-b9b1-7826ce36a063",
   "metadata": {},
   "source": [
    "#### Pregunta 02: \n",
    "Usando la tabla o pestaña de clientes, por favor escribe una consulta SQL que muestre el número de clientes en cada grupo de clientes (Bronce, Plata y Oro). Puedo ver visualmente que hay 4 Bronce, 3 Plata y 3 Oro pero si hubiera un millón de clientes ¿cómo lo haría en Excel?"
   ]
  },
  {
   "cell_type": "code",
   "execution_count": 1,
   "id": "f24feb0a-0bfc-4fd0-8341-f8b7c47a8589",
   "metadata": {},
   "outputs": [
    {
     "ename": "IndentationError",
     "evalue": "unexpected indent (605017709.py, line 2)",
     "output_type": "error",
     "traceback": [
      "\u001b[0;36m  Cell \u001b[0;32mIn[1], line 2\u001b[0;36m\u001b[0m\n\u001b[0;31m    CustomerGroup,\u001b[0m\n\u001b[0m    ^\u001b[0m\n\u001b[0;31mIndentationError\u001b[0m\u001b[0;31m:\u001b[0m unexpected indent\n"
     ]
    }
   ],
   "source": [
    "SELECT\n",
    "    CustomerGroup,\n",
    "    COUNT(CustId)\n",
    "FROM Customer\n",
    "GROUP BY CustomerGroup\n",
    ";"
   ]
  },
  {
   "cell_type": "markdown",
   "id": "0ec53708-09c1-4c8d-b4a1-21587f1457e7",
   "metadata": {},
   "source": [
    "#### Pregunta 03: \n",
    "El gerente de CRM me ha pedido que proporcione una lista completa de todos los datos para esos clientes en la tabla de clientes pero necesito añadir el código de moneda de cada jugador para que pueda enviar la oferta correcta en la moneda correcta. Nota que el código de moneda no existe en la tabla de clientes sino en la tabla de cuentas. Por favor, escribe el SQL que facilitaría esto. ¿Cómo lo haría en Excel si tuviera un conjunto de datos mucho más grande?"
   ]
  },
  {
   "cell_type": "code",
   "execution_count": null,
   "id": "bdb9b95b-0f02-4843-9767-cd1f5de07fee",
   "metadata": {},
   "outputs": [],
   "source": [
    "SELECT *\n",
    "(\n",
    "SELECT \n",
    "FROM Customer cs\n",
    "LEFT JOIN Account a\n",
    "    ON cs.CustId = a.CustId\n"
   ]
  },
  {
   "cell_type": "markdown",
   "id": "56d3b00a-67b3-4cf9-9d79-f9c214c3f4d3",
   "metadata": {},
   "source": [
    "#### Pregunta 04: \n",
    "Ahora necesito proporcionar a un gerente de producto un informe resumen que muestre, por producto y por día, cuánto dinero se ha apostado en un producto particular. TEN EN CUENTA que las transacciones están almacenadas en la tabla de apuestas y hay un código de producto en esa tabla que se requiere buscar (classid & categoryid) para determinar a qué familia de productos pertenece esto. Por favor, escribe el SQL que proporcionaría el informe. Si imaginas que esto fue un conjunto de datos mucho más grande en Excel, ¿cómo proporcionarías este informe en Excel?"
   ]
  },
  {
   "cell_type": "code",
   "execution_count": null,
   "id": "69c922ad-212f-41a0-9f50-ed7032d100dd",
   "metadata": {},
   "outputs": [],
   "source": []
  },
  {
   "cell_type": "markdown",
   "id": "eb2ab99e-95dd-440b-9aea-55ba200dfaf1",
   "metadata": {},
   "source": [
    "#### Pregunta 05: \n",
    "Acabas de proporcionar el informe de la pregunta 4 al gerente de producto, ahora él me ha enviado un correo electrónico y quiere que se cambie. ¿Puedes por favor modificar el informe resumen para que solo resuma las transacciones que ocurrieron el 1 de noviembre o después y solo quiere ver transacciones de Sportsbook. Nuevamente, por favor escribe el SQL abajo que hará esto. Si yo estuviera entregando esto vía Excel, ¿cómo lo haría?"
   ]
  },
  {
   "cell_type": "code",
   "execution_count": null,
   "id": "e079a094-b0a7-40d3-8c64-6a266527a5ce",
   "metadata": {},
   "outputs": [],
   "source": []
  },
  {
   "cell_type": "markdown",
   "id": "6d7ea474-5bf6-47db-95a9-2df3cd807ab6",
   "metadata": {},
   "source": [
    "#### Pregunta 06: \n",
    "Como suele suceder, el gerente de producto ha mostrado su nuevo informe a su director y ahora él también quiere una versión diferente de este informe. Esta vez, quiere todos los productos pero divididos por el código de moneda y el grupo de clientes del cliente, en lugar de por día y producto. También le gustaría solo transacciones que ocurrieron después del 1 de diciembre. Por favor, escribe el código SQL que hará esto."
   ]
  },
  {
   "cell_type": "code",
   "execution_count": null,
   "id": "5e496828-831e-4079-9e56-d214f11cfe2a",
   "metadata": {},
   "outputs": [],
   "source": []
  },
  {
   "cell_type": "markdown",
   "id": "c4a2b5b9-39a3-4282-a849-419e3e06f4f4",
   "metadata": {},
   "source": [
    "#### Pregunta 07: \n",
    "Nuestro equipo VIP ha pedido ver un informe de todos los jugadores independientemente de si han hecho algo en el marco de tiempo completo o no. En nuestro ejemplo, es posible que no todos los jugadores hayan estado activos. Por favor, escribe una consulta SQL que muestre a todos los jugadores Título, Nombre y Apellido y un resumen de su cantidad de apuesta para el período completo de noviembre."
   ]
  },
  {
   "cell_type": "code",
   "execution_count": null,
   "id": "8725abef-b0d9-49b8-bc7a-b1833e1eef08",
   "metadata": {},
   "outputs": [],
   "source": []
  }
 ],
 "metadata": {
  "kernelspec": {
   "display_name": "Python 3 (ipykernel)",
   "language": "python",
   "name": "python3"
  },
  "language_info": {
   "codemirror_mode": {
    "name": "ipython",
    "version": 3
   },
   "file_extension": ".py",
   "mimetype": "text/x-python",
   "name": "python",
   "nbconvert_exporter": "python",
   "pygments_lexer": "ipython3",
   "version": "3.12.3"
  }
 },
 "nbformat": 4,
 "nbformat_minor": 5
}
